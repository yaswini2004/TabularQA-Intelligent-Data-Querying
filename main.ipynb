{
 "cells": [
  {
   "cell_type": "code",
   "execution_count": 5,
   "metadata": {},
   "outputs": [],
   "source": [
    "import pandas as pd\n",
    "import numpy as np\n",
    "import pinecone\n",
    "from sklearn.metrics import f1_score\n",
    "from sklearn.metrics.pairwise import cosine_similarity\n",
    "# from openai.embeddings_utils import get_embedding\n",
    "from dotenv import load_dotenv\n",
    "from pinecone import Pinecone, ServerlessSpec\n",
    "from openai import OpenAI\n",
    "import os\n",
    "import openai"
   ]
  },
  {
   "cell_type": "markdown",
   "metadata": {},
   "source": [
    "# Load environment variables (e.g., API keys)"
   ]
  },
  {
   "cell_type": "code",
   "execution_count": null,
   "metadata": {},
   "outputs": [],
   "source": [
    "load_dotenv(\"key.env\")\n",
    "openai.api_key = os.getenv('OPENAI_API_KEY')"
   ]
  },
  {
   "cell_type": "code",
   "execution_count": 8,
   "metadata": {},
   "outputs": [],
   "source": [
    "tabular_data = pd.read_csv(\"input_table.csv\")\n",
    "qa_data = pd.read_excel(\"QA_dataset_share.xlsx\")"
   ]
  },
  {
   "cell_type": "code",
   "execution_count": 9,
   "metadata": {},
   "outputs": [
    {
     "name": "stderr",
     "output_type": "stream",
     "text": [
      "C:\\Users\\yaswi\\AppData\\Local\\Temp\\ipykernel_9728\\1077243820.py:4: FutureWarning: Setting an item of incompatible dtype is deprecated and will raise an error in a future version of pandas. Value 'N/A' has dtype incompatible with float64, please explicitly cast to a compatible dtype first.\n",
      "  qa_data.fillna(\"N/A\", inplace=True)\n"
     ]
    }
   ],
   "source": [
    "tabular_data.fillna(\"N/A\", inplace=True)\n",
    "\n",
    "# Fill null values in QA data\n",
    "qa_data.fillna(\"N/A\", inplace=True)"
   ]
  },
  {
   "cell_type": "markdown",
   "metadata": {},
   "source": [
    "# Convert tabular data rows into retrievable text\n"
   ]
  },
  {
   "cell_type": "code",
   "execution_count": null,
   "metadata": {},
   "outputs": [],
   "source": [
    "def convert_row_to_text(row):\n",
    "    return \", \".join([f\"{col} = {row[col]}\" for col in tabular_data.columns])\n",
    "\n",
    "tabular_data[\"retrievable_text\"] = tabular_data.apply(convert_row_to_text, axis=1)"
   ]
  },
  {
   "cell_type": "markdown",
   "metadata": {},
   "source": [
    "# Initialize Pinecone and configure index"
   ]
  },
  {
   "cell_type": "code",
   "execution_count": null,
   "metadata": {},
   "outputs": [],
   "source": [
    "# Initialize Pinecone and configure index\n",
    "index_name = \"hackathon\"\n",
    "pc = Pinecone(api_key=\"\")  # Replace with your actual Pinecone API key\n",
    "\n",
    "# Check if the index exists; create if it doesn't\n",
    "if index_name not in [idx.name for idx in pc.list_indexes()]:\n",
    "    pc.create_index(\n",
    "        name=index_name,\n",
    "        dimension=1536,\n",
    "        metric='euclidean',\n",
    "        spec=ServerlessSpec(cloud='aws', region='us-east-1')\n",
    "    )\n",
    "pinecone_index = pc.Index(index_name)"
   ]
  },
  {
   "cell_type": "code",
   "execution_count": 14,
   "metadata": {},
   "outputs": [],
   "source": [
    "def convert_row_to_text(row):\n",
    "    return \", \".join([f\"{col} = {row[col]}\" for col in tabular_data.columns])\n",
    "\n",
    "tabular_data[\"retrievable_text\"] = tabular_data.apply(convert_row_to_text, axis=1)\n",
    "\n"
   ]
  },
  {
   "cell_type": "code",
   "execution_count": 15,
   "metadata": {},
   "outputs": [],
   "source": [
    "def get_embedding(text, model=\"text-embedding-ada-002\"):\n",
    "    \n",
    "    client = OpenAI()\n",
    "\n",
    "    response = client.embeddings.create(\n",
    "        input=text,\n",
    "        model=model\n",
    "    )\n",
    "    return response.data[0].embedding\n"
   ]
  },
  {
   "cell_type": "markdown",
   "metadata": {},
   "source": [
    "#Storing embeddings in pinecone (takes time)"
   ]
  },
  {
   "cell_type": "code",
   "execution_count": 20,
   "metadata": {},
   "outputs": [],
   "source": [
    "for i, row in tabular_data.iterrows():\n",
    "    row_text = row[\"retrievable_text\"]  # Assume you've created a column for retrievable text\n",
    "    embedding = get_embedding(row_text)\n",
    "    pinecone_index.upsert([(str(i), embedding)])"
   ]
  },
  {
   "cell_type": "code",
   "execution_count": 26,
   "metadata": {},
   "outputs": [],
   "source": [
    "def retrieve_context(question):\n",
    "    # Embed the question\n",
    "    question_embedding = get_embedding(question, model=\"text-embedding-ada-002\")\n",
    "    \n",
    "    # Query Pinecone for the top matches\n",
    "    search_results = pinecone_index.query(vector=question_embedding, top_k=3, include_metadata=False)\n",
    "    \n",
    "    # Retrieve matching rows\n",
    "    context = []\n",
    "    for match in search_results[\"matches\"]:\n",
    "        index = int(match[\"id\"])\n",
    "        context.append(tabular_data.iloc[index][\"retrievable_text\"])\n",
    "    return context"
   ]
  },
  {
   "cell_type": "code",
   "execution_count": 27,
   "metadata": {},
   "outputs": [],
   "source": [
    "def generate_answer(question, context):\n",
    "    prompt = f\"\"\"\n",
    "    You are a data assistant. Answer the question based on the provided context.\n",
    "\n",
    "    Question: {question}\n",
    "    Context: {\" \".join(context)}\n",
    "    Answer:\n",
    "    \"\"\"\n",
    "    client = OpenAI()\n",
    "    response = client.chat.completions.create(\n",
    "        model=\"gpt-4o-mini-2024-07-18\",\n",
    "        messages=[{\"role\": \"user\", \"content\": prompt}]\n",
    "    )\n",
    "    return response.choices[0].message.content.strip()"
   ]
  },
  {
   "cell_type": "code",
   "execution_count": 28,
   "metadata": {},
   "outputs": [],
   "source": [
    "def process_user_query(question):\n",
    "    # Retrieve relevant rows\n",
    "    context = retrieve_context(question)\n",
    "    \n",
    "    # Generate the answer using LLM\n",
    "    answer = generate_answer(question, context)\n",
    "    \n",
    "    # Save the result to an Excel file\n",
    "    result_df = pd.DataFrame({\n",
    "        \"Question\": [question],\n",
    "        \"Generated Answer\": [answer],\n",
    "        \"Context\": [context]\n",
    "    })\n",
    "    result_df.to_excel(\"predicted_answers.xlsx\", index=False)\n",
    "    \n",
    "    return answer"
   ]
  },
  {
   "cell_type": "code",
   "execution_count": 31,
   "metadata": {},
   "outputs": [
    {
     "name": "stdout",
     "output_type": "stream",
     "text": [
      "Answer: The highest gross income for the Health and Beauty product line is 15.3225.\n"
     ]
    }
   ],
   "source": [
    "user_question = \"What is the highest gross income for Health and Beauty product line?\"\n",
    "answer = process_user_query(user_question)\n",
    "print(\"Answer:\", answer)"
   ]
  },
  {
   "cell_type": "code",
   "execution_count": null,
   "metadata": {},
   "outputs": [],
   "source": []
  },
  {
   "cell_type": "code",
   "execution_count": null,
   "metadata": {},
   "outputs": [],
   "source": []
  },
  {
   "cell_type": "code",
   "execution_count": null,
   "metadata": {},
   "outputs": [],
   "source": []
  },
  {
   "cell_type": "code",
   "execution_count": null,
   "metadata": {},
   "outputs": [],
   "source": []
  },
  {
   "cell_type": "code",
   "execution_count": null,
   "metadata": {},
   "outputs": [],
   "source": []
  },
  {
   "cell_type": "code",
   "execution_count": null,
   "metadata": {},
   "outputs": [],
   "source": []
  },
  {
   "cell_type": "code",
   "execution_count": null,
   "metadata": {},
   "outputs": [],
   "source": []
  },
  {
   "cell_type": "code",
   "execution_count": null,
   "metadata": {},
   "outputs": [],
   "source": []
  },
  {
   "cell_type": "code",
   "execution_count": null,
   "metadata": {},
   "outputs": [],
   "source": []
  },
  {
   "cell_type": "code",
   "execution_count": null,
   "metadata": {},
   "outputs": [],
   "source": []
  },
  {
   "cell_type": "code",
   "execution_count": null,
   "metadata": {},
   "outputs": [],
   "source": []
  }
 ],
 "metadata": {
  "kernelspec": {
   "display_name": "Python 3",
   "language": "python",
   "name": "python3"
  },
  "language_info": {
   "codemirror_mode": {
    "name": "ipython",
    "version": 3
   },
   "file_extension": ".py",
   "mimetype": "text/x-python",
   "name": "python",
   "nbconvert_exporter": "python",
   "pygments_lexer": "ipython3",
   "version": "3.9.11"
  }
 },
 "nbformat": 4,
 "nbformat_minor": 2
}
